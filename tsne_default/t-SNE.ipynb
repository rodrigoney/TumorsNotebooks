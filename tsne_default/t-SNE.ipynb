{
 "cells": [
  {
   "cell_type": "code",
   "execution_count": 1,
   "metadata": {
    "collapsed": true
   },
   "outputs": [],
   "source": [
    "#\n",
    "# tsne.py\n",
    "#\n",
    "# Implementation of t-SNE in Python. The implementation was tested on Python 2.7.10, and it requires a working\n",
    "# installation of NumPy. The implementation comes with an example on the MNIST dataset. In order to plot the\n",
    "# results of this example, a working installation of matplotlib is required.\n",
    "#\n",
    "# The example can be run by executing: `ipython tsne.py`\n",
    "#\n",
    "#\n",
    "#  Created by Laurens van der Maaten on 20-12-08.\n",
    "#  Copyright (c) 2008 Tilburg University. All rights reserved.\n",
    "\n",
    "import numpy as Math\n",
    "import pylab as Plot"
   ]
  },
  {
   "cell_type": "code",
   "execution_count": 2,
   "metadata": {
    "collapsed": true
   },
   "outputs": [],
   "source": [
    "def Hbeta(D = Math.array([]), beta = 1.0):\n",
    "    \"\"\"Compute the perplexity and the P-row for a specific value of the precision of a Gaussian distribution.\"\"\"\n",
    "\n",
    "    # Compute P-row and corresponding perplexity\n",
    "    P = Math.exp(-D.copy() * beta);\n",
    "    sumP = sum(P);\n",
    "    H = Math.log(sumP) + beta * Math.sum(D * P) / sumP;\n",
    "    P = P / sumP;\n",
    "    return H, P;"
   ]
  },
  {
   "cell_type": "code",
   "execution_count": 3,
   "metadata": {
    "collapsed": true
   },
   "outputs": [],
   "source": [
    "def x2p(X = Math.array([]), tol = 1e-5, perplexity = 30.0):\n",
    "    \"\"\"Performs a binary search to get P-values in such a way that each conditional Gaussian has the same perplexity.\"\"\"\n",
    "\n",
    "    # Initialize some variables\n",
    "    print \"Computing pairwise distances...\"\n",
    "    (n, d) = X.shape;\n",
    "    sum_X = Math.sum(Math.square(X), 1);\n",
    "    D = Math.add(Math.add(-2 * Math.dot(X, X.T), sum_X).T, sum_X);\n",
    "    P = Math.zeros((n, n));\n",
    "    beta = Math.ones((n, 1));\n",
    "    logU = Math.log(perplexity);\n",
    "\n",
    "    # Loop over all datapoints\n",
    "    for i in range(n):\n",
    "\n",
    "        # Print progress\n",
    "        if i % 500 == 0:\n",
    "            print \"Computing P-values for point \", i, \" of \", n, \"...\"\n",
    "\n",
    "        # Compute the Gaussian kernel and entropy for the current precision\n",
    "        betamin = -Math.inf;\n",
    "        betamax =  Math.inf;\n",
    "        Di = D[i, Math.concatenate((Math.r_[0:i], Math.r_[i+1:n]))];\n",
    "        (H, thisP) = Hbeta(Di, beta[i]);\n",
    "\n",
    "        # Evaluate whether the perplexity is within tolerance\n",
    "        Hdiff = H - logU;\n",
    "        tries = 0;\n",
    "        while Math.abs(Hdiff) > tol and tries < 50:\n",
    "\n",
    "            # If not, increase or decrease precision\n",
    "            if Hdiff > 0:\n",
    "                betamin = beta[i].copy();\n",
    "                if betamax == Math.inf or betamax == -Math.inf:\n",
    "                    beta[i] = beta[i] * 2;\n",
    "                else:\n",
    "                    beta[i] = (beta[i] + betamax) / 2;\n",
    "            else:\n",
    "                betamax = beta[i].copy();\n",
    "                if betamin == Math.inf or betamin == -Math.inf:\n",
    "                    beta[i] = beta[i] / 2;\n",
    "                else:\n",
    "                    beta[i] = (beta[i] + betamin) / 2;\n",
    "\n",
    "            # Recompute the values\n",
    "            (H, thisP) = Hbeta(Di, beta[i]);\n",
    "            Hdiff = H - logU;\n",
    "            tries = tries + 1;\n",
    "\n",
    "        # Set the final row of P\n",
    "        P[i, Math.concatenate((Math.r_[0:i], Math.r_[i+1:n]))] = thisP;\n",
    "\n",
    "    # Return final P-matrix\n",
    "    print \"Mean value of sigma: \", Math.mean(Math.sqrt(1 / beta));\n",
    "    return P;"
   ]
  },
  {
   "cell_type": "code",
   "execution_count": 4,
   "metadata": {
    "collapsed": true
   },
   "outputs": [],
   "source": [
    "def pca(X = Math.array([]), no_dims = 50):\n",
    "    \"\"\"Runs PCA on the NxD array X in order to reduce its dimensionality to no_dims dimensions.\"\"\"\n",
    "\n",
    "    print \"Preprocessing the data using PCA...\"\n",
    "    (n, d) = X.shape;\n",
    "    X = X - Math.tile(Math.mean(X, 0), (n, 1));\n",
    "    (l, M) = Math.linalg.eig(Math.dot(X.T, X));\n",
    "    Y = Math.dot(X, M[:,0:no_dims]);\n",
    "    return Y;"
   ]
  },
  {
   "cell_type": "code",
   "execution_count": 5,
   "metadata": {
    "collapsed": true
   },
   "outputs": [],
   "source": [
    "def tsne(X = Math.array([]), no_dims = 2, initial_dims = 50, perplexity = 30.0):\n",
    "    \"\"\"Runs t-SNE on the dataset in the NxD array X to reduce its dimensionality to no_dims dimensions.\n",
    "    The syntaxis of the function is Y = tsne.tsne(X, no_dims, perplexity), where X is an NxD NumPy array.\"\"\"\n",
    "\n",
    "    # Check inputs\n",
    "    if isinstance(no_dims, float):\n",
    "        print \"Error: array X should have type float.\";\n",
    "        return -1;\n",
    "    if round(no_dims) != no_dims:\n",
    "        print \"Error: number of dimensions should be an integer.\";\n",
    "        return -1;\n",
    "\n",
    "    # Initialize variables\n",
    "    X = pca(X, initial_dims).real;\n",
    "    (n, d) = X.shape;\n",
    "    max_iter = 1000;\n",
    "    initial_momentum = 0.5;\n",
    "    final_momentum = 0.8;\n",
    "    eta = 500;\n",
    "    min_gain = 0.01;\n",
    "    Y = Math.random.randn(n, no_dims);\n",
    "    dY = Math.zeros((n, no_dims));\n",
    "    iY = Math.zeros((n, no_dims));\n",
    "    gains = Math.ones((n, no_dims));\n",
    "\n",
    "    # Compute P-values\n",
    "    P = x2p(X, 1e-5, perplexity);\n",
    "    P = P + Math.transpose(P);\n",
    "    P = P / Math.sum(P);\n",
    "    P = P * 4;                                    # early exaggeration\n",
    "    P = Math.maximum(P, 1e-12);\n",
    "\n",
    "    # Run iterations\n",
    "    for iter in range(max_iter):\n",
    "\n",
    "        # Compute pairwise affinities\n",
    "        sum_Y = Math.sum(Math.square(Y), 1);\n",
    "        num = 1 / (1 + Math.add(Math.add(-2 * Math.dot(Y, Y.T), sum_Y).T, sum_Y));\n",
    "        num[range(n), range(n)] = 0;\n",
    "        Q = num / Math.sum(num);\n",
    "        Q = Math.maximum(Q, 1e-12);\n",
    "\n",
    "        # Compute gradient\n",
    "        PQ = P - Q;\n",
    "        for i in range(n):\n",
    "            dY[i,:] = Math.sum(Math.tile(PQ[:,i] * num[:,i], (no_dims, 1)).T * (Y[i,:] - Y), 0);\n",
    "\n",
    "        # Perform the update\n",
    "        if iter < 20:\n",
    "            momentum = initial_momentum\n",
    "        else:\n",
    "            momentum = final_momentum\n",
    "        gains = (gains + 0.2) * ((dY > 0) != (iY > 0)) + (gains * 0.8) * ((dY > 0) == (iY > 0));\n",
    "        gains[gains < min_gain] = min_gain;\n",
    "        iY = momentum * iY - eta * (gains * dY);\n",
    "        Y = Y + iY;\n",
    "        Y = Y - Math.tile(Math.mean(Y, 0), (n, 1));\n",
    "\n",
    "        # Compute current value of cost function\n",
    "        if (iter + 1) % 10 == 0:\n",
    "            C = Math.sum(P * Math.log(P / Q));\n",
    "            print \"Iteration \", (iter + 1), \": error is \", C\n",
    "\n",
    "        # Stop lying about P-values\n",
    "        if iter == 100:\n",
    "            P = P / 4;\n",
    "\n",
    "    # Return solution\n",
    "    return Y;"
   ]
  },
  {
   "cell_type": "code",
   "execution_count": 12,
   "metadata": {},
   "outputs": [
    {
     "name": "stdout",
     "output_type": "stream",
     "text": [
      "Run Y = tsne.tsne(X, no_dims, perplexity) to perform t-SNE on your dataset.\n",
      "Running example on 2,500 MNIST digits...\n",
      "784\n"
     ]
    }
   ],
   "source": [
    "if __name__ == \"__main__\":\n",
    "    print \"Run Y = tsne.tsne(X, no_dims, perplexity) to perform t-SNE on your dataset.\"\n",
    "    print \"Running example on 2,500 MNIST digits...\"\n",
    "    X = Math.loadtxt(\"mnist2500_X.txt\");\n",
    "    print len(X[0])\n",
    "    #labels = Math.loadtxt(\"mnist2500_labels.txt\");\n",
    "    #Y = tsne(X, 2, 50, 20.0);\n",
    "    #Plot.scatter(Y[:,0], Y[:,1], 20, labels);\n",
    "    #Plot.show();"
   ]
  },
  {
   "cell_type": "code",
   "execution_count": null,
   "metadata": {
    "collapsed": true
   },
   "outputs": [],
   "source": []
  }
 ],
 "metadata": {
  "kernelspec": {
   "display_name": "Python 2",
   "language": "python",
   "name": "python2"
  },
  "language_info": {
   "codemirror_mode": {
    "name": "ipython",
    "version": 2
   },
   "file_extension": ".py",
   "mimetype": "text/x-python",
   "name": "python",
   "nbconvert_exporter": "python",
   "pygments_lexer": "ipython2",
   "version": "2.7.12"
  }
 },
 "nbformat": 4,
 "nbformat_minor": 2
}
