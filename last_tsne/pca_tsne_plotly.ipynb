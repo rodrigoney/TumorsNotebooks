{
 "cells": [
  {
   "cell_type": "code",
   "execution_count": 5,
   "metadata": {},
   "outputs": [],
   "source": [
    "import numpy as np\n",
    "import pandas as pd\n",
    "from sklearn.manifold import TSNE\n",
    "import sys\n",
    "import plotly.plotly as py\n",
    "import plotly.graph_objs as go"
   ]
  },
  {
   "cell_type": "code",
   "execution_count": 14,
   "metadata": {},
   "outputs": [
    {
     "name": "stdout",
     "output_type": "stream",
     "text": [
      "Lowest kl_divergence: 0.0645789802074\n"
     ]
    },
    {
     "data": {
      "text/html": [
       "<iframe id=\"igraph\" scrolling=\"no\" style=\"border:none;\" seamless=\"seamless\" src=\"https://plot.ly/~rney/4.embed\" height=\"525px\" width=\"100%\"></iframe>"
      ],
      "text/plain": [
       "<plotly.tools.PlotlyDisplay object>"
      ]
     },
     "execution_count": 14,
     "metadata": {},
     "output_type": "execute_result"
    }
   ],
   "source": [
    "raw_df = pd.read_csv(\"input/Planilha_RODRIGO_tumores.csv\")\n",
    "\n",
    "X = raw_df[['CD45','CD56','CD3','CD19']].values\n",
    "labels = raw_df.hematopoietico.values\n",
    "\n",
    "last_divergence = sys.maxint\n",
    "X_embedded = None\n",
    "for i in range(0,25):\n",
    "    my_tse = TSNE(n_components=2)\n",
    "    cur_X_embedded = my_tse.fit_transform(X)\n",
    "    if last_divergence >= my_tse.kl_divergence_:\n",
    "        X_embedded = cur_X_embedded\n",
    "        last_divergence = my_tse.kl_divergence_\n",
    "\n",
    "hem_x = []\n",
    "hem_y = []\n",
    "not_hem_x = []\n",
    "not_hem_y = []\n",
    "for hematopoetico_index in range(0, len(labels)):\n",
    "    if labels[hematopoetico_index] == 'sim':\n",
    "        hem_x.append(cur_X_embedded[hematopoetico_index,0])\n",
    "        hem_y.append(cur_X_embedded[hematopoetico_index,1])\n",
    "    else:\n",
    "        not_hem_x.append(cur_X_embedded[hematopoetico_index,0])\n",
    "        not_hem_y.append(cur_X_embedded[hematopoetico_index,1])\n",
    "        \n",
    "print 'Lowest kl_divergence: ' + str(last_divergence)\n",
    "trace0 = go.Scatter(\n",
    "    x = hem_x,\n",
    "    y = hem_y,\n",
    "    name = 'Hematopoetico',\n",
    "    mode = 'markers',\n",
    "    marker = dict(\n",
    "        size = 10,\n",
    "        color = 'rgba(255, 0, 0, .9)',\n",
    "        line = dict(\n",
    "            width = 2,\n",
    "            color = 'rgb(0, 0, 0)'\n",
    "        )\n",
    "    )\n",
    ")\n",
    "\n",
    "trace1 = go.Scatter(\n",
    "    x = not_hem_x,\n",
    "    y = not_hem_y,\n",
    "    name = 'Nao Hematopoietico',\n",
    "    mode = 'markers',\n",
    "    marker = dict(\n",
    "        size = 10,\n",
    "        color = 'rgba(0, 0, 255, .9)',\n",
    "        line = dict(\n",
    "            width = 2,\n",
    "        )\n",
    "    )\n",
    ")\n",
    "\n",
    "data = [trace0, trace1]\n",
    "\n",
    "layout = dict(title = 'Hematopoietico x Nao Hematopoietico',\n",
    "              yaxis = dict(zeroline = False),\n",
    "              xaxis = dict(zeroline = False)\n",
    "             )\n",
    "\n",
    "fig = dict(data=data, layout=layout)\n",
    "py.iplot(fig, filename='tumros_level_1')"
   ]
  },
  {
   "cell_type": "code",
   "execution_count": 21,
   "metadata": {},
   "outputs": [
    {
     "data": {
      "text/html": [
       "<iframe id=\"igraph\" scrolling=\"no\" style=\"border:none;\" seamless=\"seamless\" src=\"https://plot.ly/~rney/6.embed\" height=\"525px\" width=\"100%\"></iframe>"
      ],
      "text/plain": [
       "<plotly.tools.PlotlyDisplay object>"
      ]
     },
     "execution_count": 21,
     "metadata": {},
     "output_type": "execute_result"
    }
   ],
   "source": [
    "labels = raw_df.diagnostico.values\n",
    "unique_labels = raw_df.diagnostico.unique()\n",
    "\n",
    "ordered_x = []\n",
    "ordered_y = []\n",
    "for index in range(0, len(unique_labels)):\n",
    "    ordered_x.append([])\n",
    "    ordered_y.append([])\n",
    "\n",
    "for disease_index in range(0, len(labels)):\n",
    "    for index in range(0, len(unique_labels)):\n",
    "        if labels[disease_index] == unique_labels[index]:\n",
    "            ordered_x[index].append(cur_X_embedded[disease_index,0])\n",
    "            ordered_y[index].append(cur_X_embedded[disease_index,1])\n",
    "            break\n",
    "            \n",
    "data = []\n",
    "for index in range(0, len(ordered_x)):\n",
    "    data.append(go.Scatter(\n",
    "            x = ordered_x[index],\n",
    "            y = ordered_y[index],\n",
    "            name = unique_labels[index],\n",
    "            mode = 'markers',\n",
    "            marker = dict(\n",
    "                size = 10,\n",
    "                line = dict(\n",
    "                    width = 2,\n",
    "                )\n",
    "            )\n",
    "        ))\n",
    "fig = dict(data=data, layout=layout)\n",
    "py.iplot(fig, filename='tumros_level_1_colours')"
   ]
  },
  {
   "cell_type": "markdown",
   "metadata": {},
   "source": [
    "## Outliers\n",
    "### - Anaplastic lymphoma\n",
    "### -  T lymphoblastic"
   ]
  },
  {
   "cell_type": "code",
   "execution_count": null,
   "metadata": {},
   "outputs": [],
   "source": []
  }
 ],
 "metadata": {
  "kernelspec": {
   "display_name": "Python 2",
   "language": "python",
   "name": "python2"
  },
  "language_info": {
   "codemirror_mode": {
    "name": "ipython",
    "version": 2
   },
   "file_extension": ".py",
   "mimetype": "text/x-python",
   "name": "python",
   "nbconvert_exporter": "python",
   "pygments_lexer": "ipython2",
   "version": "2.7.14"
  }
 },
 "nbformat": 4,
 "nbformat_minor": 2
}
